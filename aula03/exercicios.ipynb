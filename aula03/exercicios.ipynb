{
 "cells": [
  {
   "cell_type": "code",
   "execution_count": 1,
   "metadata": {},
   "outputs": [
    {
     "name": "stdout",
     "output_type": "stream",
     "text": [
      "esse e o primeiro comando\n"
     ]
    }
   ],
   "source": [
    "print('esse e o primeiro comando')"
   ]
  },
  {
   "cell_type": "code",
   "execution_count": 2,
   "metadata": {},
   "outputs": [
    {
     "name": "stdout",
     "output_type": "stream",
     "text": [
      "More\n"
     ]
    }
   ],
   "source": [
    "x = 2\n",
    "\n",
    "if x < 0:\n",
    "    x = 0\n",
    "    print('Negative Changed to zero')\n",
    "elif x == 0:\n",
    "    print('Zero')\n",
    "elif x == 1:\n",
    "    print('Single')\n",
    "else:\n",
    "    print('More')"
   ]
  },
  {
   "cell_type": "code",
   "execution_count": null,
   "metadata": {},
   "outputs": [],
   "source": [
    "preco = 1000 \n",
    "\n",
    "quantidade = 40\n",
    "\n",
    "if quantidade > 0 and preco > 0:\n",
    "    print('Valores Validis')\n",
    "else:\n",
    "    print('valores invalidos')"
   ]
  },
  {
   "cell_type": "code",
   "execution_count": 2,
   "metadata": {},
   "outputs": [],
   "source": [
    "palavras = 'hoje é a nossa segunda aula do bootcamp, bootcamp de python'\n",
    "\n",
    "contagem_de_palavras = {}\n",
    "\n",
    "palavras = palavras.split(' ')\n",
    "\n",
    "#for palavra in palavras:\n",
    "#    if palavra in contagem_de_palavras:\n",
    "#        contagem_de_palavras[palavra] = +1\n",
    "#    else:\n",
    "#        contagem_de_palavras[palavra] = 1"
   ]
  },
  {
   "cell_type": "code",
   "execution_count": null,
   "metadata": {},
   "outputs": [],
   "source": [
    "while True:\n",
    "    print('Danado')"
   ]
  },
  {
   "cell_type": "code",
   "execution_count": null,
   "metadata": {},
   "outputs": [],
   "source": []
  }
 ],
 "metadata": {
  "kernelspec": {
   "display_name": ".venv",
   "language": "python",
   "name": "python3"
  },
  "language_info": {
   "codemirror_mode": {
    "name": "ipython",
    "version": 3
   },
   "file_extension": ".py",
   "mimetype": "text/x-python",
   "name": "python",
   "nbconvert_exporter": "python",
   "pygments_lexer": "ipython3",
   "version": "3.12.1"
  }
 },
 "nbformat": 4,
 "nbformat_minor": 2
}
