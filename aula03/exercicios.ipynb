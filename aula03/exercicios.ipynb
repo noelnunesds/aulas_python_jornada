{
 "cells": [
  {
   "cell_type": "code",
   "execution_count": 34,
   "metadata": {},
   "outputs": [],
   "source": [
    "import pandas as pd \n",
    "import numpy as np"
   ]
  },
  {
   "cell_type": "code",
   "execution_count": 2,
   "metadata": {},
   "outputs": [
    {
     "name": "stdout",
     "output_type": "stream",
     "text": [
      "Dados Inválidos\n"
     ]
    }
   ],
   "source": [
    "### Exercício 1: Verificação de Qualidade de Dados\n",
    "# Você está analisando um conjunto de dados de vendas e precisa garantir \n",
    "# que todos os registros tenham valores positivos para `quantidade` e `preço`. \n",
    "# Escreva um programa que verifique esses campos e imprima \"Dados válidos\" se ambos \n",
    "# forem positivos ou \"Dados inválidos\" caso contrário.\n",
    "preco = -10\n",
    "quantidade = 20\n",
    "\n",
    "if preco > 0 and quantidade > 0:\n",
    "    print('Dados Válidos')\n",
    "else:\n",
    "    print('Dados Inválidos')"
   ]
  },
  {
   "cell_type": "code",
   "execution_count": 6,
   "metadata": {},
   "outputs": [
    {
     "name": "stdout",
     "output_type": "stream",
     "text": [
      "normal\n"
     ]
    }
   ],
   "source": [
    "### Exercício 2: Classificação de Dados de Sensor\n",
    "# Imagine que você está trabalhando com dados de sensores IoT. \n",
    "# Os dados incluem medições de temperatura. Você precisa classificar cada leitura \n",
    "# como 'Baixa', 'Normal' ou 'Alta'. Considerando que:\n",
    "leitura = 3\n",
    "\n",
    "if leitura < 3:\n",
    "    print('baixa')\n",
    "elif leitura < 6:\n",
    "    print('normal')\n",
    "else:\n",
    "    print('alta')\n"
   ]
  },
  {
   "cell_type": "code",
   "execution_count": 13,
   "metadata": {},
   "outputs": [
    {
     "name": "stdout",
     "output_type": "stream",
     "text": [
      "Operação realizada com sucesso\n"
     ]
    }
   ],
   "source": [
    "### Exercício 3: Filtragem de Logs por Severidade\n",
    "# Você está analisando logs de uma aplicação e precisa filtrar mensagens \n",
    "# com severidade 'ERROR'. Dado um registro de log em formato de dicionário \n",
    "# como `log = {'timestamp': '2021-06-23 10:00:00', 'level': 'ERROR', 'message': 'Falha na conexão'}`, \n",
    "# escreva um programa que imprima a mensagem se a severidade for 'ERROR'.\n",
    "\n",
    "log = {'timestamp': '2021-06-23 10:00:00', 'level': 'sucess', 'message': 'Falha na conexão'}\n",
    "\n",
    "if log['level'].lower() == 'error':\n",
    "    print('É Erro')\n",
    "else:\n",
    "    print('Operação realizada com sucesso')"
   ]
  },
  {
   "cell_type": "code",
   "execution_count": 20,
   "metadata": {},
   "outputs": [
    {
     "name": "stdout",
     "output_type": "stream",
     "text": [
      "Dados de usuário válido\n"
     ]
    }
   ],
   "source": [
    "### Exercício 4: Validação de Dados de Entrada\n",
    "# Antes de processar os dados de usuários em um sistema de recomendação, \n",
    "# você precisa garantir que cada usuário tenha idade entre 18 e 65 anos e tenha \n",
    "# fornecido um email válido. Escreva um programa que valide essas condições \n",
    "# e imprima \"Dados de usuário válidos\" ou o erro específico encontrado.\n",
    "import re\n",
    "\n",
    "idade_usuario = 51\n",
    "email_usuario = 'noel@gmail.com'\n",
    "\n",
    "\n",
    "padrao = r'^[a-zA-Z0-9._%+-]+@[a-zA-Z0-9.-]+\\.[a-zA-Z]{2,}$'\n",
    "\n",
    "if re.match(padrao, email_usuario) and 18 <= idade_usuario <= 65:\n",
    "    print('Dados de usuário válido')\n",
    "elif not re.match(padrao, email_usuario):\n",
    "    raise ValueError('E-mail Inválido')\n",
    "elif not (18 <= idade_usuario <= 65):\n",
    "    raise ValueError('Idade Inválida')\n",
    "else:\n",
    "    raise ValueError('Erro inesperado')  "
   ]
  },
  {
   "cell_type": "code",
   "execution_count": 24,
   "metadata": {},
   "outputs": [
    {
     "name": "stdout",
     "output_type": "stream",
     "text": [
      "Transação Suspeita\n"
     ]
    }
   ],
   "source": [
    "if transacao['valor'] > 10000 or not (9 <= transacao['hora'] <= 18):\n",
    "    print('Transação Suspeita')\n",
    "else:\n",
    "    print('Transação nãp suspeita')"
   ]
  },
  {
   "cell_type": "code",
   "execution_count": 31,
   "metadata": {},
   "outputs": [
    {
     "name": "stdout",
     "output_type": "stream",
     "text": [
      "'dados': 1\n",
      "'são': 1\n",
      "'o': 1\n",
      "'novo': 1\n",
      "'petróleo,': 1\n",
      "'a': 2\n",
      "'análise': 1\n",
      "'de': 1\n",
      "'dados,': 1\n",
      "'fornece': 1\n",
      "'novas': 1\n",
      "'perspectivas': 1\n",
      "'sobre': 1\n",
      "'realidade.': 1\n"
     ]
    }
   ],
   "source": [
    "### Exercício 6. Contagem de Palavras em Textos\n",
    "# Objetivo:** Dado um texto, contar quantas vezes cada palavra única aparece nele.\n",
    "\n",
    "texto = 'dados são o novo petróleo, a análise de dados, fornece novas perspectivas sobre a realidade.'\n",
    "\n",
    "palavras = texto.split() # uma lista\n",
    "\n",
    "contagem_palavras = {}\n",
    "\n",
    "for palavra in palavras:\n",
    "    if palavra in contagem_palavras:\n",
    "        contagem_palavras[palavra] += 1\n",
    "    else:\n",
    "        contagem_palavras[palavra] = 1\n",
    "\n",
    "for palavra, frequencia in contagem_palavras.items():\n",
    "    print(f\"'{palavra}': {frequencia}\")"
   ]
  },
  {
   "cell_type": "code",
   "execution_count": 43,
   "metadata": {},
   "outputs": [
    {
     "name": "stdout",
     "output_type": "stream",
     "text": [
      "[np.float64(0.0), np.float64(0.0002314814814814815), np.float64(0.12106481481481482), np.float64(0.014583333333333334), np.float64(0.012962962962962963), np.float64(0.019675925925925927), np.float64(0.02824074074074074), np.float64(0.007638888888888889), np.float64(0.027777777777777776), np.float64(0.0025462962962962965), np.float64(0.07407407407407407), np.float64(1.0), np.float64(0.0)]\n"
     ]
    }
   ],
   "source": [
    "### Exercício 7. Normalização de Dados\n",
    "# Objetivo:** Normalizar uma lista de números para que fiquem na escala de 0 a 1.\n",
    "lista = [1, 2, 524, 64, 57, 86, 123, 34, 121, 12, 321, 4321, 1]\n",
    "\n",
    "def normalization(lista):\n",
    "    lista_normalizada = [(x - np.min(lista)) / (np.max(lista) - np.min(lista)) for x in lista]\n",
    "        \n",
    "    print(lista_normalizada)\n",
    "\n",
    "normalization(lista)\n"
   ]
  },
  {
   "cell_type": "code",
   "execution_count": 18,
   "metadata": {},
   "outputs": [
    {
     "name": "stdout",
     "output_type": "stream",
     "text": [
      "[{'nome': 'noel', 'idade': 21, 'profissao': ''}]\n"
     ]
    }
   ],
   "source": [
    "from collections.abc import Mapping\n",
    "\n",
    "### Exercício 8. Filtragem de Dados Faltantes\n",
    "# Objetivo:** Dada uma lista de dicionários representando dados de usuários, filtrar aqueles que têm um campo específico faltando\n",
    "dados: list = [\n",
    "    {\n",
    "        'nome':'noel',\n",
    "        'idade': 21,\n",
    "        'profissao': ''\n",
    "    },\n",
    "    {\n",
    "        'nome': 'spyke',\n",
    "        'idade': 5,\n",
    "        'profissao': 'cachorro'\n",
    "    }\n",
    "]\n",
    "\n",
    "if not isinstance(dados, list) or not all(isinstance(d, Mapping) for d in dados):\n",
    "    raise ValueError(\"Os dados devem ser uma lista de dicionários.\")\n",
    "try:\n",
    "    dados_faltantes = []\n",
    "\n",
    "    for dictionary in dados:\n",
    "        if any(valor == '' for valor in dictionary.values()):\n",
    "            dados_faltantes.append(dictionary)\n",
    "\n",
    "    print(dados_faltantes)\n",
    "except TypeError:\n",
    "    raise ValueError('Erro inesperado ao processar dados')"
   ]
  },
  {
   "cell_type": "code",
   "execution_count": 20,
   "metadata": {},
   "outputs": [
    {
     "name": "stdout",
     "output_type": "stream",
     "text": [
      "[2, 12, 6, 34]\n"
     ]
    }
   ],
   "source": [
    "### Exercício 9. Extração de Subconjuntos de Dados\n",
    "# Objetivo:** Dada uma lista de números, extrair apenas aqueles que são pares.\n",
    "lista = [1,2,123, 123,5, 12,53,123, 6, 5, 34,13, 31]\n",
    "\n",
    "if not isinstance(lista, list):\n",
    "    raise ValueError('Lista deve ser do tipo list')\n",
    "try:\n",
    "    lista_pares = [numero for numero in lista if numero % 2 == 0]\n",
    "    print(lista_pares)\n",
    "except TypeError:\n",
    "    raise ValueError('Erro inesperado')"
   ]
  },
  {
   "cell_type": "code",
   "execution_count": 28,
   "metadata": {},
   "outputs": [
    {
     "name": "stdout",
     "output_type": "stream",
     "text": [
      "Categoria: infantil, Total de vendas: 1300\n",
      "Categoria: pelúcia, Total de vendas: 50\n"
     ]
    }
   ],
   "source": [
    "### Exercício 10. Agregação de Dados por Categoria\n",
    "# Objetivo:** Dado um conjunto de registros de vendas, calcular o total de vendas por categoria.\n",
    "from itertools import groupby\n",
    "\n",
    "vendas: list = [\n",
    "    {\n",
    "        'nome':'brinquedo',\n",
    "        'categoria': 'infantil',\n",
    "        'valor': 1300\n",
    "    },\n",
    "    {\n",
    "        'nome': 'spyke',\n",
    "        'categoria': 'pelúcia',\n",
    "        'valor': 50\n",
    "    }\n",
    "]\n",
    "\n",
    "def coluna(coluna):\n",
    "    return coluna['categoria']\n",
    "\n",
    "\n",
    "vendas = sorted(vendas, key=coluna)\n",
    "\n",
    "totais_por_categoria = {}\n",
    "\n",
    "for categoria, grupo in groupby(vendas, coluna):\n",
    "    total = sum(item['valor'] for item in grupo)\n",
    "    totais_por_categoria[categoria] = total \n",
    "\n",
    "for categoria, total in totais_por_categoria.items():\n",
    "    print(f\"Categoria: {categoria}, Total de vendas: {total}\")\n"
   ]
  },
  {
   "cell_type": "code",
   "execution_count": 29,
   "metadata": {},
   "outputs": [],
   "source": [
    "### Exercício 11. Leitura de Dados até Flag\n",
    "# Ler dados de entrada até que uma palavra-chave específica (\"sair\") seja fornecida.\n",
    "\n",
    "dados = []\n",
    "\n",
    "entrada = ''\n",
    "\n",
    "while entrada.lower() != 'sair':\n",
    "    entrada = input('Entre o dado')"
   ]
  },
  {
   "cell_type": "code",
   "execution_count": 40,
   "metadata": {},
   "outputs": [
    {
     "name": "stdout",
     "output_type": "stream",
     "text": [
      "Você digitou um número válido 5\n"
     ]
    }
   ],
   "source": [
    "# Solicitar ao usuário um número dentro de um intervalo específico até que a entrada seja válida # Inicializa a variável 'entrada' com um valor fora do intervalo desejado entrada = 0 # Loop para solicitar a entrada do usuário até que seja válida \n",
    "entrada = 0\n",
    "\n",
    "while not (1 <= entrada <= 10):\n",
    "    entrada = int(input('Digite um número válido entre 1 e 10'))\n",
    "\n",
    "print(f'Você digitou um número válido {entrada}')"
   ]
  },
  {
   "cell_type": "code",
   "execution_count": null,
   "metadata": {},
   "outputs": [],
   "source": []
  }
 ],
 "metadata": {
  "kernelspec": {
   "display_name": ".venv",
   "language": "python",
   "name": "python3"
  },
  "language_info": {
   "codemirror_mode": {
    "name": "ipython",
    "version": 3
   },
   "file_extension": ".py",
   "mimetype": "text/x-python",
   "name": "python",
   "nbconvert_exporter": "python",
   "pygments_lexer": "ipython3",
   "version": "3.12.1"
  }
 },
 "nbformat": 4,
 "nbformat_minor": 2
}
