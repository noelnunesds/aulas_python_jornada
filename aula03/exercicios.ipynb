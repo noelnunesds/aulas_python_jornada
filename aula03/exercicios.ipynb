{
 "cells": [
  {
   "cell_type": "code",
   "execution_count": 34,
   "metadata": {},
   "outputs": [],
   "source": [
    "import pandas as pd \n",
    "import numpy as np"
   ]
  },
  {
   "cell_type": "code",
   "execution_count": 2,
   "metadata": {},
   "outputs": [
    {
     "name": "stdout",
     "output_type": "stream",
     "text": [
      "Dados Inválidos\n"
     ]
    }
   ],
   "source": [
    "### Exercício 1: Verificação de Qualidade de Dados\n",
    "# Você está analisando um conjunto de dados de vendas e precisa garantir \n",
    "# que todos os registros tenham valores positivos para `quantidade` e `preço`. \n",
    "# Escreva um programa que verifique esses campos e imprima \"Dados válidos\" se ambos \n",
    "# forem positivos ou \"Dados inválidos\" caso contrário.\n",
    "preco = -10\n",
    "quantidade = 20\n",
    "\n",
    "if preco > 0 and quantidade > 0:\n",
    "    print('Dados Válidos')\n",
    "else:\n",
    "    print('Dados Inválidos')"
   ]
  },
  {
   "cell_type": "code",
   "execution_count": 6,
   "metadata": {},
   "outputs": [
    {
     "name": "stdout",
     "output_type": "stream",
     "text": [
      "normal\n"
     ]
    }
   ],
   "source": [
    "### Exercício 2: Classificação de Dados de Sensor\n",
    "# Imagine que você está trabalhando com dados de sensores IoT. \n",
    "# Os dados incluem medições de temperatura. Você precisa classificar cada leitura \n",
    "# como 'Baixa', 'Normal' ou 'Alta'. Considerando que:\n",
    "leitura = 3\n",
    "\n",
    "if leitura < 3:\n",
    "    print('baixa')\n",
    "elif leitura < 6:\n",
    "    print('normal')\n",
    "else:\n",
    "    print('alta')\n"
   ]
  },
  {
   "cell_type": "code",
   "execution_count": 13,
   "metadata": {},
   "outputs": [
    {
     "name": "stdout",
     "output_type": "stream",
     "text": [
      "Operação realizada com sucesso\n"
     ]
    }
   ],
   "source": [
    "### Exercício 3: Filtragem de Logs por Severidade\n",
    "# Você está analisando logs de uma aplicação e precisa filtrar mensagens \n",
    "# com severidade 'ERROR'. Dado um registro de log em formato de dicionário \n",
    "# como `log = {'timestamp': '2021-06-23 10:00:00', 'level': 'ERROR', 'message': 'Falha na conexão'}`, \n",
    "# escreva um programa que imprima a mensagem se a severidade for 'ERROR'.\n",
    "\n",
    "log = {'timestamp': '2021-06-23 10:00:00', 'level': 'sucess', 'message': 'Falha na conexão'}\n",
    "\n",
    "if log['level'].lower() == 'error':\n",
    "    print('É Erro')\n",
    "else:\n",
    "    print('Operação realizada com sucesso')"
   ]
  },
  {
   "cell_type": "code",
   "execution_count": 20,
   "metadata": {},
   "outputs": [
    {
     "name": "stdout",
     "output_type": "stream",
     "text": [
      "Dados de usuário válido\n"
     ]
    }
   ],
   "source": [
    "### Exercício 4: Validação de Dados de Entrada\n",
    "# Antes de processar os dados de usuários em um sistema de recomendação, \n",
    "# você precisa garantir que cada usuário tenha idade entre 18 e 65 anos e tenha \n",
    "# fornecido um email válido. Escreva um programa que valide essas condições \n",
    "# e imprima \"Dados de usuário válidos\" ou o erro específico encontrado.\n",
    "import re\n",
    "\n",
    "idade_usuario = 51\n",
    "email_usuario = 'noel@gmail.com'\n",
    "\n",
    "\n",
    "padrao = r'^[a-zA-Z0-9._%+-]+@[a-zA-Z0-9.-]+\\.[a-zA-Z]{2,}$'\n",
    "\n",
    "if re.match(padrao, email_usuario) and 18 <= idade_usuario <= 65:\n",
    "    print('Dados de usuário válido')\n",
    "elif not re.match(padrao, email_usuario):\n",
    "    raise ValueError('E-mail Inválido')\n",
    "elif not (18 <= idade_usuario <= 65):\n",
    "    raise ValueError('Idade Inválida')\n",
    "else:\n",
    "    raise ValueError('Erro inesperado')  "
   ]
  },
  {
   "cell_type": "code",
   "execution_count": 24,
   "metadata": {},
   "outputs": [
    {
     "name": "stdout",
     "output_type": "stream",
     "text": [
      "Transação Suspeita\n"
     ]
    }
   ],
   "source": [
    "if transacao['valor'] > 10000 or not (9 <= transacao['hora'] <= 18):\n",
    "    print('Transação Suspeita')\n",
    "else:\n",
    "    print('Transação nãp suspeita')"
   ]
  },
  {
   "cell_type": "code",
   "execution_count": 31,
   "metadata": {},
   "outputs": [
    {
     "name": "stdout",
     "output_type": "stream",
     "text": [
      "'dados': 1\n",
      "'são': 1\n",
      "'o': 1\n",
      "'novo': 1\n",
      "'petróleo,': 1\n",
      "'a': 2\n",
      "'análise': 1\n",
      "'de': 1\n",
      "'dados,': 1\n",
      "'fornece': 1\n",
      "'novas': 1\n",
      "'perspectivas': 1\n",
      "'sobre': 1\n",
      "'realidade.': 1\n"
     ]
    }
   ],
   "source": [
    "### Exercício 6. Contagem de Palavras em Textos\n",
    "# Objetivo:** Dado um texto, contar quantas vezes cada palavra única aparece nele.\n",
    "\n",
    "texto = 'dados são o novo petróleo, a análise de dados, fornece novas perspectivas sobre a realidade.'\n",
    "\n",
    "palavras = texto.split() # uma lista\n",
    "\n",
    "contagem_palavras = {}\n",
    "\n",
    "for palavra in palavras:\n",
    "    if palavra in contagem_palavras:\n",
    "        contagem_palavras[palavra] += 1\n",
    "    else:\n",
    "        contagem_palavras[palavra] = 1\n",
    "\n",
    "for palavra, frequencia in contagem_palavras.items():\n",
    "    print(f\"'{palavra}': {frequencia}\")"
   ]
  },
  {
   "cell_type": "code",
   "execution_count": 43,
   "metadata": {},
   "outputs": [
    {
     "name": "stdout",
     "output_type": "stream",
     "text": [
      "[np.float64(0.0), np.float64(0.0002314814814814815), np.float64(0.12106481481481482), np.float64(0.014583333333333334), np.float64(0.012962962962962963), np.float64(0.019675925925925927), np.float64(0.02824074074074074), np.float64(0.007638888888888889), np.float64(0.027777777777777776), np.float64(0.0025462962962962965), np.float64(0.07407407407407407), np.float64(1.0), np.float64(0.0)]\n"
     ]
    }
   ],
   "source": [
    "### Exercício 7. Normalização de Dados\n",
    "# Objetivo:** Normalizar uma lista de números para que fiquem na escala de 0 a 1.\n",
    "lista = [1, 2, 524, 64, 57, 86, 123, 34, 121, 12, 321, 4321, 1]\n",
    "\n",
    "def normalization(lista):\n",
    "    lista_normalizada = [(x - np.min(lista)) / (np.max(lista) - np.min(lista)) for x in lista]\n",
    "        \n",
    "    print(lista_normalizada)\n",
    "\n",
    "normalization(lista)\n"
   ]
  },
  {
   "cell_type": "code",
   "execution_count": null,
   "metadata": {},
   "outputs": [],
   "source": []
  },
  {
   "cell_type": "code",
   "execution_count": 47,
   "metadata": {},
   "outputs": [
    {
     "data": {
      "text/plain": [
       "[2, 12, 6, 34]"
      ]
     },
     "execution_count": 47,
     "metadata": {},
     "output_type": "execute_result"
    }
   ],
   "source": [
    "### Exercício 9. Extração de Subconjuntos de Dados\n",
    "# Objetivo:** Dada uma lista de números, extrair apenas aqueles que são pares.\n",
    "lista = [1,2,123, 123,5, 12,53,123, 6, 5, 34,13, 31]\n",
    "\n",
    "lista_pares = [numero for numero in lista if numero % 2 == 0]\n",
    "\n",
    "lista_pares"
   ]
  }
 ],
 "metadata": {
  "kernelspec": {
   "display_name": ".venv",
   "language": "python",
   "name": "python3"
  },
  "language_info": {
   "codemirror_mode": {
    "name": "ipython",
    "version": 3
   },
   "file_extension": ".py",
   "mimetype": "text/x-python",
   "name": "python",
   "nbconvert_exporter": "python",
   "pygments_lexer": "ipython3",
   "version": "3.12.1"
  }
 },
 "nbformat": 4,
 "nbformat_minor": 2
}
