{
 "cells": [
  {
   "cell_type": "code",
   "execution_count": 13,
   "metadata": {},
   "outputs": [
    {
     "name": "stdout",
     "output_type": "stream",
     "text": [
      "3.7142857142857144\n"
     ]
    }
   ],
   "source": [
    "# Calcular Média de Valores em uma Lista\n",
    "import numpy as np\n",
    "\n",
    "def calcular_media_em_listas(lista: list) -> float:\n",
    "    # checking if the parameters is a list\n",
    "    if not isinstance(lista, list):\n",
    "          raise ValueError('O parametro deve ser uma lista')\n",
    "\n",
    "    lista_filtrada = [] \n",
    "\n",
    "    for valor in lista:\n",
    "        if isinstance(valor, (int, float)):\n",
    "            lista_filtrada.append(valor)\n",
    "        elif isinstance(valor, str):\n",
    "            try:\n",
    "                lista_filtrada.append(float(valor))\n",
    "            except ValueError:\n",
    "                pass\n",
    "\n",
    "    if not lista_filtrada:\n",
    "        raise ValueError(\"Não há valores numéricos para calcular a média.\")\n",
    "\n",
    "    return sum(lista_filtrada) / len(lista_filtrada)\n",
    "            \n",
    "lista = [1, 2, 3, 4, 5, 6, 'a', '5']\n",
    "\n",
    "print(calcular_media_em_listas(lista))\n"
   ]
  },
  {
   "cell_type": "code",
   "execution_count": 23,
   "metadata": {},
   "outputs": [
    {
     "name": "stdout",
     "output_type": "stream",
     "text": [
      "[1, 6, 53, 63, 21, 54, 12, 53]\n"
     ]
    }
   ],
   "source": [
    "# Filtrar Dados Acima de um Limite\n",
    "\n",
    "def filtrar_acima_limite(valor, limite) -> list:\n",
    "\n",
    "    # Verificar se é uma lista \n",
    "    if not isinstance(valor, list):\n",
    "        raise TypeError('O parâmetro deve ser uma lista')\n",
    "    elif not isinstance(limite, (int, float)):\n",
    "        raise TypeError('O parametro limit deve ser um int ou float')\n",
    "    \n",
    "    lista_filtrada = [valor for valor in lista if valor > limite]\n",
    "\n",
    "    return lista_filtrada\n",
    "\n",
    "lista1 = [1, 6, 323, 53, 63, 646, 631, 21, 242, 54, 123, 424, 12, 53]\n",
    "\n",
    "print(filtrar_acima_limite(lista1, 100))\n",
    "\n"
   ]
  },
  {
   "cell_type": "code",
   "execution_count": null,
   "metadata": {},
   "outputs": [],
   "source": []
  }
 ],
 "metadata": {
  "kernelspec": {
   "display_name": ".venv",
   "language": "python",
   "name": "python3"
  },
  "language_info": {
   "codemirror_mode": {
    "name": "ipython",
    "version": 3
   },
   "file_extension": ".py",
   "mimetype": "text/x-python",
   "name": "python",
   "nbconvert_exporter": "python",
   "pygments_lexer": "ipython3",
   "version": "3.12.1"
  }
 },
 "nbformat": 4,
 "nbformat_minor": 2
}
