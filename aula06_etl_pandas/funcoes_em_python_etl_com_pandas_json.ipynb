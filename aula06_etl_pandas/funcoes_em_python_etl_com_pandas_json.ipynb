{
 "cells": [
  {
   "cell_type": "markdown",
   "metadata": {},
   "source": [
    "# Etl com pandas\n",
    "\n",
    "- Ferramenta de processamento\n",
    "-- Pandas\n",
    "- Ferramenta de Qualidade\n",
    "-- Pandera"
   ]
  },
  {
   "cell_type": "code",
   "execution_count": null,
   "metadata": {},
   "outputs": [],
   "source": []
  }
 ],
 "metadata": {
  "kernelspec": {
   "display_name": ".venv",
   "language": "python",
   "name": "python3"
  },
  "language_info": {
   "name": "python",
   "version": "3.12.1"
  }
 },
 "nbformat": 4,
 "nbformat_minor": 2
}
